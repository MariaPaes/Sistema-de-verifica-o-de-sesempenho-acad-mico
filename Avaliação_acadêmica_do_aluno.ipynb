{
 "cells": [
  {
   "cell_type": "code",
   "execution_count": 4,
   "metadata": {},
   "outputs": [
    {
     "name": "stdout",
     "output_type": "stream",
     "text": [
      "---------- TRIAGEM -----------\n",
      "\n",
      "\n",
      "---------- AVALIAÇÃO DO(A) ALUNO(A) -----------\n",
      "\n",
      "ertxcg  tirou na 1ªVA e 2ªVA  69.0  e  2.0  obtendo média  35.5 .\n",
      "ertxcg  foi aprovado por média.\n",
      "\n"
     ]
    }
   ],
   "source": [
    "# Os alunos devem incrementar o código com variáveis e métodos, se acharem necessário e, ao final, imprimir na tela todo o histórico do aluno, \n",
    "# com todas as notas e médias, inclusive informando se o status do aluno foi: \"aprovado por média\", \"aprovado na final\" ou \"reprovado\". Consideram \n",
    "# que a média aritimética para aprovação é 7,0 (sete) e  após final 5,0 (cinco).\n",
    "\n",
    "from IPython.core.display import clear_output\n",
    "from time import sleep\n",
    "\n",
    "class DesempenhoAcademico():\n",
    "\n",
    "  def __init__(self):\n",
    "    print(\"---------- TRIAGEM -----------\\n\")\n",
    "    self.nomeAluno = input (\"Qual seu nome? \").capitalize\n",
    "    self.media = 0\n",
    "    self.situacao = False\n",
    "    self.calcularMedia()\n",
    "\n",
    "  def calcularMedia(self):\n",
    "    nota1 = float(input (\"Qual foi sua nota na 1ªVA? \"))\n",
    "    nota2 = float(input (\"Qual foi sua nota na 2ªVA? \"))\n",
    "\n",
    "    print(\"\\n---------- AVALIAÇÃO DO(A) ALUNO(A) -----------\\n\")\n",
    "    self.media = (nota1 + nota2) / 2\n",
    "    print(self.nomeAluno, \" tirou na 1ªVA e 2ªVA \", nota1, \" e \", nota2, \" obtendo média \", self.media, \".\")\n",
    "\n",
    "    if (self.media >= 7.00):\n",
    "      self.situacao = True\n",
    "      print(self.nomeAluno, \" foi aprovado por média.\\n\")\n",
    "    else:\n",
    "      print(\"O(A) aluno(a) não atingiu a nota mínima de 7 pontos para ser aprovado por média, então, \", self.nomeAluno, \" precisa fazer a prova final.\")\n",
    "      notaFinal = float(input (\"\\nQual foi sua nota na prova final? \"))\n",
    "      self.calcularMediaAposFinal(notaFinal)\n",
    "    return\n",
    "\n",
    "  def calcularMediaAposFinal(self, notaFinal):\n",
    "    self.media = (self.media + notaFinal) / 2\n",
    "    if (self.media >= 5.00):\n",
    "      print(self.nomeAluno, \" foi aprovado na final com \", self.media, \" pontos.\")\n",
    "      self.situacao = True\n",
    "      self.loop()\n",
    "    else:\n",
    "      self.situacaoAluno()\n",
    "    return\n",
    "\n",
    "  def situacaoAluno(self):\n",
    "    notaRestante = 5 - self.media\n",
    "    if (self.situacao == False and self.media < 5.00):\n",
    "      print(self.nomeAluno, \" teve média final \", self.media, \" pontos, ou seja, faltou \", notaRestante,\" pontos para ser aprovado na final, sendo assim, reprovado.\\n\")\n",
    "    self.loop()\n",
    "\n",
    "  def loop(self):\n",
    "    respostaLoop = input(\"\\nDeseja fazer avaliação de algum aluno? (sim / nao): \").lower()\n",
    "    if (respostaLoop == \"sim\") or (respostaLoop == \"s\"):\n",
    "      sleep(5)\n",
    "      clear_output()\n",
    "      novaAvaliacao = DesempenhoAcademico()\n",
    "    elif (respostaLoop == \"nao\") or (respostaLoop == \"n\"):\n",
    "      print(\"\\nOk. Até a próxima!\")\n",
    "    else:\n",
    "      print(\"\\nEntrada inválida. Até a próxima!\")\n",
    "\n",
    "desempenho = DesempenhoAcademico()\n"
   ]
  }
 ],
 "metadata": {
  "kernelspec": {
   "display_name": "Python 3",
   "language": "python",
   "name": "python3"
  },
  "language_info": {
   "codemirror_mode": {
    "name": "ipython",
    "version": 3
   },
   "file_extension": ".py",
   "mimetype": "text/x-python",
   "name": "python",
   "nbconvert_exporter": "python",
   "pygments_lexer": "ipython3",
   "version": "3.12.0"
  }
 },
 "nbformat": 4,
 "nbformat_minor": 2
}
