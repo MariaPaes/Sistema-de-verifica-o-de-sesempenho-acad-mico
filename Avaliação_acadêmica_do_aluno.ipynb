{
  "nbformat": 4,
  "nbformat_minor": 0,
  "metadata": {
    "colab": {
      "provenance": []
    },
    "kernelspec": {
      "name": "python3",
      "display_name": "Python 3"
    },
    "language_info": {
      "name": "python"
    }
  },
  "cells": [
    {
      "cell_type": "code",
      "execution_count": null,
      "metadata": {
        "id": "FyfC4S_o_Fc9"
      },
      "outputs": [],
      "source": [
        "class DesempenhoAcademico():\n",
        "\n",
        "  def __init__(self):\n",
        "    print(\"---------- TRIAGEM -----------\\n\")\n",
        "    self.nomeAluno = input (\"Qual seu nome? \")\n",
        "    self.media = 0\n",
        "    self.situacao = False\n",
        "\n",
        "  def calcularMedia(self):\n",
        "    nota1 = float(input (\"Qual foi sua nota na 1ªVA? \"))\n",
        "    nota2 = float(input (\"Qual foi sua nota na 2ªVA? \"))\n",
        "\n",
        "    print(\"\\n---------- AVALIAÇÃO DO(A) ALUNO(A) -----------\\n\")\n",
        "    self.media = (nota1 + nota2) / 2\n",
        "    print(self.nomeAluno, \" tirou na 1ªVA e 2ªVA \", nota1, \" e \", nota2, \" obtendo média \", self.media, \".\")\n",
        "\n",
        "    if (self.media >= 7.00):\n",
        "      self.situacao = True\n",
        "      print(self.nomeAluno, \" foi aprovado por média.\\n\")\n",
        "    else:\n",
        "      print(\"O(A) aluno(a) não atingiu a nota mínima de 7 pontos para ser aprovado por média, então, \", self.nomeAluno, \" precisa fazer a prova final.\")\n",
        "      notaFinal = float(input (\"\\nQual foi sua nota na prova final? \"))\n",
        "      self.calcularMediaAposFinal(notaFinal)\n",
        "    return\n",
        "\n",
        "  def calcularMediaAposFinal(self, notaFinal):\n",
        "    self.media = (self.media + notaFinal) / 2\n",
        "    if (self.media >= 5.00):\n",
        "      print(self.nomeAluno, \" foi aprovado na final com \", self.media, \" pontos.\")\n",
        "      self.situacao = True\n",
        "    else:\n",
        "      self.situacaoAluno()\n",
        "    return\n",
        "\n",
        "  def situacaoAluno(self):\n",
        "    notaRestante = 5 - self.media\n",
        "    if (self.situacao == False and self.media < 5.00):\n",
        "      print(self.nomeAluno, \" teve média final \", self.media, \" pontos, ou seja, faltou \", notaRestante,\" pontos para ser aprovado na final, sendo assim, reprovado.\")\n",
        "\n",
        "\n",
        "desempenho = DesempenhoAcademico()\n",
        "desempenho.calcularMedia()"
      ]
    }
  ]
}